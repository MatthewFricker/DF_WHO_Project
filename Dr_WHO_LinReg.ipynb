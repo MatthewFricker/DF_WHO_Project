{
 "cells": [
  {
   "cell_type": "code",
   "execution_count": 10,
   "id": "cb0331fa-2907-4b8e-a597-7dca9992917a",
   "metadata": {
    "tags": []
   },
   "outputs": [],
   "source": [
    "import pandas as pd\n",
    "import numpy as np\n",
    "from sklearn.linear_model import LinearRegression\n",
    "from sklearn import metrics\n",
    "import seaborn as sns\n",
    "from sklearn.model_selection import train_test_split"
   ]
  },
  {
   "cell_type": "code",
   "execution_count": null,
   "id": "03b1f7be-92fd-4623-9d91-3a829ddadf69",
   "metadata": {},
   "outputs": [],
   "source": [
    "df = pd.read_csv(\"Life Expectancy Data.csv\")"
   ]
  },
  {
   "cell_type": "code",
   "execution_count": 20,
   "id": "241ac192-0132-4a03-8d2f-29e76e750869",
   "metadata": {
    "tags": []
   },
   "outputs": [],
   "source": [
    "fcols = list(df.columns)\n",
    "fcols.remove(\"Life_expectancy\")"
   ]
  },
  {
   "cell_type": "code",
   "execution_count": 24,
   "id": "3bd6e01e-705a-487c-9cb4-ba948ea91515",
   "metadata": {
    "tags": []
   },
   "outputs": [],
   "source": [
    "X = df[fcols]\n",
    "y = df.Life_expectancy"
   ]
  },
  {
   "cell_type": "code",
   "execution_count": 30,
   "id": "b3ee152f-5591-42be-9dd1-ce240418d63e",
   "metadata": {
    "tags": []
   },
   "outputs": [],
   "source": [
    "X_train, X_test, y_train, y_test = train_test_split(X, y, test_size = 0.2, random_state = 1)"
   ]
  },
  {
   "cell_type": "code",
   "execution_count": 52,
   "id": "ff418055-bfbe-47d8-83a3-15de6c710a1e",
   "metadata": {
    "tags": []
   },
   "outputs": [
    {
     "data": {
      "text/plain": [
       "True"
      ]
     },
     "execution_count": 52,
     "metadata": {},
     "output_type": "execute_result"
    }
   ],
   "source": [
    "len(X_train) == len(y_train)"
   ]
  },
  {
   "cell_type": "code",
   "execution_count": 54,
   "id": "30a13351-2c93-4692-a2fc-70ef0728fa3a",
   "metadata": {
    "tags": []
   },
   "outputs": [
    {
     "data": {
      "text/plain": [
       "True"
      ]
     },
     "execution_count": 54,
     "metadata": {},
     "output_type": "execute_result"
    }
   ],
   "source": [
    "len(X_test) == len(y_test)"
   ]
  },
  {
   "cell_type": "code",
   "execution_count": null,
   "id": "82e2e284-406e-4008-99df-4dfc816d0a73",
   "metadata": {},
   "outputs": [],
   "source": []
  }
 ],
 "metadata": {
  "kernelspec": {
   "display_name": "Python 3 (ipykernel)",
   "language": "python",
   "name": "python3"
  },
  "language_info": {
   "codemirror_mode": {
    "name": "ipython",
    "version": 3
   },
   "file_extension": ".py",
   "mimetype": "text/x-python",
   "name": "python",
   "nbconvert_exporter": "python",
   "pygments_lexer": "ipython3",
   "version": "3.11.7"
  }
 },
 "nbformat": 4,
 "nbformat_minor": 5
}
