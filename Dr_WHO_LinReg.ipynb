{
 "cells": [
  {
   "cell_type": "code",
   "execution_count": 2,
   "id": "cb0331fa-2907-4b8e-a597-7dca9992917a",
   "metadata": {
    "tags": []
   },
   "outputs": [],
   "source": [
    "import pandas as pd\n",
    "import numpy as np\n",
    "from sklearn.linear_model import LinearRegression\n",
    "from sklearn import metrics\n",
    "import seaborn as sns\n",
    "from sklearn.model_selection import train_test_split\n"
   ]
  },
  {
   "cell_type": "code",
   "execution_count": 12,
   "id": "516de99b",
   "metadata": {},
   "outputs": [],
   "source": [
    "import statsmodels.api as sm\n",
    "import statsmodels.tools"
   ]
  },
  {
   "cell_type": "code",
   "execution_count": 3,
   "id": "03b1f7be-92fd-4623-9d91-3a829ddadf69",
   "metadata": {},
   "outputs": [],
   "source": [
    "df = pd.read_csv(\"Life Expectancy Data.csv\")"
   ]
  },
  {
   "cell_type": "code",
   "execution_count": 5,
   "id": "3f01c231",
   "metadata": {},
   "outputs": [
    {
     "data": {
      "text/plain": [
       "Country                         object\n",
       "Region                          object\n",
       "Year                             int64\n",
       "Infant_deaths                  float64\n",
       "Under_five_deaths              float64\n",
       "Adult_mortality                float64\n",
       "Alcohol_consumption            float64\n",
       "Hepatitis_B                      int64\n",
       "Measles                          int64\n",
       "BMI                            float64\n",
       "Polio                            int64\n",
       "Diphtheria                       int64\n",
       "Incidents_HIV                  float64\n",
       "GDP_per_capita                   int64\n",
       "Population_mln                 float64\n",
       "Thinness_ten_nineteen_years    float64\n",
       "Thinness_five_nine_years       float64\n",
       "Schooling                      float64\n",
       "Economy_status_Developed         int64\n",
       "Economy_status_Developing        int64\n",
       "Life_expectancy                float64\n",
       "dtype: object"
      ]
     },
     "execution_count": 5,
     "metadata": {},
     "output_type": "execute_result"
    }
   ],
   "source": [
    "df.dtypes"
   ]
  },
  {
   "cell_type": "code",
   "execution_count": 7,
   "id": "241ac192-0132-4a03-8d2f-29e76e750869",
   "metadata": {
    "tags": []
   },
   "outputs": [],
   "source": [
    "fcols = list(df.columns)\n",
    "fcols.remove(\"Life_expectancy\")\n",
    "fcols.remove(\"Country\")"
   ]
  },
  {
   "cell_type": "code",
   "execution_count": 8,
   "id": "3bd6e01e-705a-487c-9cb4-ba948ea91515",
   "metadata": {
    "tags": []
   },
   "outputs": [],
   "source": [
    "X = df[fcols]\n",
    "y = df.Life_expectancy"
   ]
  },
  {
   "cell_type": "code",
   "execution_count": 9,
   "id": "b3ee152f-5591-42be-9dd1-ce240418d63e",
   "metadata": {
    "tags": []
   },
   "outputs": [],
   "source": [
    "X_train, X_test, y_train, y_test = train_test_split(X, y, test_size = 0.2, random_state = 1)"
   ]
  },
  {
   "cell_type": "code",
   "execution_count": 25,
   "id": "82e2e284-406e-4008-99df-4dfc816d0a73",
   "metadata": {},
   "outputs": [],
   "source": [
    "def feature_engineering(df):\n",
    "    df = df.copy()\n",
    "    df = pd.get_dummies(df, columns=[\"Region\"], drop_first=True, prefix=\"region\", dtype=int)\n",
    "    #df[\"gdp_per_capita_exp\"] = np.exp(df[\"GDP_per_capita\"], dtype=np.float64)\n",
    "    df[\"alcohol_exp\"] = np.exp(df[\"Alcohol_consumption\"])\n",
    "    df = sm.add_constant(df)\n",
    "    return df"
   ]
  },
  {
   "cell_type": "code",
   "execution_count": 26,
   "id": "c6771d6a",
   "metadata": {},
   "outputs": [],
   "source": [
    "X_train_fe = feature_engineering(X_train)"
   ]
  },
  {
   "cell_type": "code",
   "execution_count": 29,
   "id": "eab669db",
   "metadata": {},
   "outputs": [],
   "source": [
    "feature_cols = ['const', 'Year', 'Infant_deaths', 'Under_five_deaths',\n",
    "       'Adult_mortality', 'Alcohol_consumption', 'Hepatitis_B', 'Measles',\n",
    "       'BMI', 'Polio', 'Diphtheria', 'Incidents_HIV', 'GDP_per_capita',\n",
    "       'Population_mln', 'Thinness_ten_nineteen_years',\n",
    "       'Thinness_five_nine_years', 'Schooling', 'Economy_status_Developed',\n",
    "       'Economy_status_Developing', 'region_Asia',\n",
    "       'region_Central America and Caribbean', 'region_European Union',\n",
    "       'region_Middle East', 'region_North America', 'region_Oceania',\n",
    "       'region_Rest of Europe', 'region_South America', 'alcohol_exp']"
   ]
  },
  {
   "cell_type": "code",
   "execution_count": 30,
   "id": "635ea8a3",
   "metadata": {},
   "outputs": [],
   "source": [
    "lin_reg = sm.OLS(y_train, X_train_fe[feature_cols])"
   ]
  },
  {
   "cell_type": "code",
   "execution_count": 31,
   "id": "a8a12e88",
   "metadata": {},
   "outputs": [
    {
     "data": {
      "text/html": [
       "<table class=\"simpletable\">\n",
       "<caption>OLS Regression Results</caption>\n",
       "<tr>\n",
       "  <th>Dep. Variable:</th>     <td>Life_expectancy</td> <th>  R-squared:         </th> <td>   0.984</td>\n",
       "</tr>\n",
       "<tr>\n",
       "  <th>Model:</th>                   <td>OLS</td>       <th>  Adj. R-squared:    </th> <td>   0.984</td>\n",
       "</tr>\n",
       "<tr>\n",
       "  <th>Method:</th>             <td>Least Squares</td>  <th>  F-statistic:       </th> <td>   5365.</td>\n",
       "</tr>\n",
       "<tr>\n",
       "  <th>Date:</th>             <td>Tue, 28 May 2024</td> <th>  Prob (F-statistic):</th>  <td>  0.00</td> \n",
       "</tr>\n",
       "<tr>\n",
       "  <th>Time:</th>                 <td>09:46:29</td>     <th>  Log-Likelihood:    </th> <td> -3650.9</td>\n",
       "</tr>\n",
       "<tr>\n",
       "  <th>No. Observations:</th>      <td>  2291</td>      <th>  AIC:               </th> <td>   7356.</td>\n",
       "</tr>\n",
       "<tr>\n",
       "  <th>Df Residuals:</th>          <td>  2264</td>      <th>  BIC:               </th> <td>   7511.</td>\n",
       "</tr>\n",
       "<tr>\n",
       "  <th>Df Model:</th>              <td>    26</td>      <th>                     </th>     <td> </td>   \n",
       "</tr>\n",
       "<tr>\n",
       "  <th>Covariance Type:</th>      <td>nonrobust</td>    <th>                     </th>     <td> </td>   \n",
       "</tr>\n",
       "</table>\n",
       "<table class=\"simpletable\">\n",
       "<tr>\n",
       "                    <td></td>                      <th>coef</th>     <th>std err</th>      <th>t</th>      <th>P>|t|</th>  <th>[0.025</th>    <th>0.975]</th>  \n",
       "</tr>\n",
       "<tr>\n",
       "  <th>const</th>                                <td>    8.7503</td> <td>    7.663</td> <td>    1.142</td> <td> 0.254</td> <td>   -6.277</td> <td>   23.777</td>\n",
       "</tr>\n",
       "<tr>\n",
       "  <th>Year</th>                                 <td>    0.0357</td> <td>    0.006</td> <td>    6.231</td> <td> 0.000</td> <td>    0.024</td> <td>    0.047</td>\n",
       "</tr>\n",
       "<tr>\n",
       "  <th>Infant_deaths</th>                        <td>   -0.0521</td> <td>    0.006</td> <td>   -8.198</td> <td> 0.000</td> <td>   -0.065</td> <td>   -0.040</td>\n",
       "</tr>\n",
       "<tr>\n",
       "  <th>Under_five_deaths</th>                    <td>   -0.0510</td> <td>    0.004</td> <td>  -12.674</td> <td> 0.000</td> <td>   -0.059</td> <td>   -0.043</td>\n",
       "</tr>\n",
       "<tr>\n",
       "  <th>Adult_mortality</th>                      <td>   -0.0468</td> <td>    0.001</td> <td>  -75.767</td> <td> 0.000</td> <td>   -0.048</td> <td>   -0.046</td>\n",
       "</tr>\n",
       "<tr>\n",
       "  <th>Alcohol_consumption</th>                  <td>    0.0051</td> <td>    0.012</td> <td>    0.433</td> <td> 0.665</td> <td>   -0.018</td> <td>    0.028</td>\n",
       "</tr>\n",
       "<tr>\n",
       "  <th>Hepatitis_B</th>                          <td>   -0.0075</td> <td>    0.003</td> <td>   -2.912</td> <td> 0.004</td> <td>   -0.013</td> <td>   -0.002</td>\n",
       "</tr>\n",
       "<tr>\n",
       "  <th>Measles</th>                              <td>    0.0028</td> <td>    0.002</td> <td>    1.578</td> <td> 0.115</td> <td>   -0.001</td> <td>    0.006</td>\n",
       "</tr>\n",
       "<tr>\n",
       "  <th>BMI</th>                                  <td>   -0.1347</td> <td>    0.023</td> <td>   -5.946</td> <td> 0.000</td> <td>   -0.179</td> <td>   -0.090</td>\n",
       "</tr>\n",
       "<tr>\n",
       "  <th>Polio</th>                                <td>    0.0040</td> <td>    0.006</td> <td>    0.672</td> <td> 0.501</td> <td>   -0.008</td> <td>    0.016</td>\n",
       "</tr>\n",
       "<tr>\n",
       "  <th>Diphtheria</th>                           <td>   -0.0041</td> <td>    0.006</td> <td>   -0.685</td> <td> 0.493</td> <td>   -0.016</td> <td>    0.008</td>\n",
       "</tr>\n",
       "<tr>\n",
       "  <th>Incidents_HIV</th>                        <td>    0.0854</td> <td>    0.018</td> <td>    4.807</td> <td> 0.000</td> <td>    0.051</td> <td>    0.120</td>\n",
       "</tr>\n",
       "<tr>\n",
       "  <th>GDP_per_capita</th>                       <td> 1.897e-05</td> <td> 2.39e-06</td> <td>    7.955</td> <td> 0.000</td> <td> 1.43e-05</td> <td> 2.37e-05</td>\n",
       "</tr>\n",
       "<tr>\n",
       "  <th>Population_mln</th>                       <td>   -0.0003</td> <td>    0.000</td> <td>   -1.348</td> <td> 0.178</td> <td>   -0.001</td> <td>    0.000</td>\n",
       "</tr>\n",
       "<tr>\n",
       "  <th>Thinness_ten_nineteen_years</th>          <td>   -0.0340</td> <td>    0.018</td> <td>   -1.878</td> <td> 0.061</td> <td>   -0.070</td> <td>    0.002</td>\n",
       "</tr>\n",
       "<tr>\n",
       "  <th>Thinness_five_nine_years</th>             <td>    0.0244</td> <td>    0.018</td> <td>    1.348</td> <td> 0.178</td> <td>   -0.011</td> <td>    0.060</td>\n",
       "</tr>\n",
       "<tr>\n",
       "  <th>Schooling</th>                            <td>    0.1059</td> <td>    0.018</td> <td>    5.724</td> <td> 0.000</td> <td>    0.070</td> <td>    0.142</td>\n",
       "</tr>\n",
       "<tr>\n",
       "  <th>Economy_status_Developed</th>             <td>    5.6121</td> <td>    3.828</td> <td>    1.466</td> <td> 0.143</td> <td>   -1.895</td> <td>   13.119</td>\n",
       "</tr>\n",
       "<tr>\n",
       "  <th>Economy_status_Developing</th>            <td>    3.1382</td> <td>    3.836</td> <td>    0.818</td> <td> 0.413</td> <td>   -4.385</td> <td>   10.662</td>\n",
       "</tr>\n",
       "<tr>\n",
       "  <th>region_Asia</th>                          <td>    0.3416</td> <td>    0.113</td> <td>    3.024</td> <td> 0.003</td> <td>    0.120</td> <td>    0.563</td>\n",
       "</tr>\n",
       "<tr>\n",
       "  <th>region_Central America and Caribbean</th> <td>    1.8946</td> <td>    0.121</td> <td>   15.687</td> <td> 0.000</td> <td>    1.658</td> <td>    2.131</td>\n",
       "</tr>\n",
       "<tr>\n",
       "  <th>region_European Union</th>                <td>   -0.7429</td> <td>    0.178</td> <td>   -4.185</td> <td> 0.000</td> <td>   -1.091</td> <td>   -0.395</td>\n",
       "</tr>\n",
       "<tr>\n",
       "  <th>region_Middle East</th>                   <td>    0.2110</td> <td>    0.139</td> <td>    1.521</td> <td> 0.128</td> <td>   -0.061</td> <td>    0.483</td>\n",
       "</tr>\n",
       "<tr>\n",
       "  <th>region_North America</th>                 <td>    0.6628</td> <td>    0.242</td> <td>    2.736</td> <td> 0.006</td> <td>    0.188</td> <td>    1.138</td>\n",
       "</tr>\n",
       "<tr>\n",
       "  <th>region_Oceania</th>                       <td>   -0.7781</td> <td>    0.147</td> <td>   -5.288</td> <td> 0.000</td> <td>   -1.067</td> <td>   -0.490</td>\n",
       "</tr>\n",
       "<tr>\n",
       "  <th>region_Rest of Europe</th>                <td>    0.1786</td> <td>    0.141</td> <td>    1.263</td> <td> 0.207</td> <td>   -0.099</td> <td>    0.456</td>\n",
       "</tr>\n",
       "<tr>\n",
       "  <th>region_South America</th>                 <td>    1.7041</td> <td>    0.137</td> <td>   12.405</td> <td> 0.000</td> <td>    1.435</td> <td>    1.974</td>\n",
       "</tr>\n",
       "<tr>\n",
       "  <th>alcohol_exp</th>                          <td>-1.774e-08</td> <td> 1.53e-08</td> <td>   -1.158</td> <td> 0.247</td> <td>-4.78e-08</td> <td> 1.23e-08</td>\n",
       "</tr>\n",
       "</table>\n",
       "<table class=\"simpletable\">\n",
       "<tr>\n",
       "  <th>Omnibus:</th>       <td> 8.686</td> <th>  Durbin-Watson:     </th> <td>   1.970</td>\n",
       "</tr>\n",
       "<tr>\n",
       "  <th>Prob(Omnibus):</th> <td> 0.013</td> <th>  Jarque-Bera (JB):  </th> <td>  10.018</td>\n",
       "</tr>\n",
       "<tr>\n",
       "  <th>Skew:</th>          <td> 0.077</td> <th>  Prob(JB):          </th> <td> 0.00668</td>\n",
       "</tr>\n",
       "<tr>\n",
       "  <th>Kurtosis:</th>      <td> 3.285</td> <th>  Cond. No.          </th> <td>2.76e+15</td>\n",
       "</tr>\n",
       "</table><br/><br/>Notes:<br/>[1] Standard Errors assume that the covariance matrix of the errors is correctly specified.<br/>[2] The smallest eigenvalue is 8.57e-16. This might indicate that there are<br/>strong multicollinearity problems or that the design matrix is singular."
      ],
      "text/latex": [
       "\\begin{center}\n",
       "\\begin{tabular}{lclc}\n",
       "\\toprule\n",
       "\\textbf{Dep. Variable:}                        & Life\\_expectancy & \\textbf{  R-squared:         } &     0.984   \\\\\n",
       "\\textbf{Model:}                                &       OLS        & \\textbf{  Adj. R-squared:    } &     0.984   \\\\\n",
       "\\textbf{Method:}                               &  Least Squares   & \\textbf{  F-statistic:       } &     5365.   \\\\\n",
       "\\textbf{Date:}                                 & Tue, 28 May 2024 & \\textbf{  Prob (F-statistic):} &     0.00    \\\\\n",
       "\\textbf{Time:}                                 &     09:46:29     & \\textbf{  Log-Likelihood:    } &   -3650.9   \\\\\n",
       "\\textbf{No. Observations:}                     &        2291      & \\textbf{  AIC:               } &     7356.   \\\\\n",
       "\\textbf{Df Residuals:}                         &        2264      & \\textbf{  BIC:               } &     7511.   \\\\\n",
       "\\textbf{Df Model:}                             &          26      & \\textbf{                     } &             \\\\\n",
       "\\textbf{Covariance Type:}                      &    nonrobust     & \\textbf{                     } &             \\\\\n",
       "\\bottomrule\n",
       "\\end{tabular}\n",
       "\\begin{tabular}{lcccccc}\n",
       "                                               & \\textbf{coef} & \\textbf{std err} & \\textbf{t} & \\textbf{P$> |$t$|$} & \\textbf{[0.025} & \\textbf{0.975]}  \\\\\n",
       "\\midrule\n",
       "\\textbf{const}                                 &       8.7503  &        7.663     &     1.142  &         0.254        &       -6.277    &       23.777     \\\\\n",
       "\\textbf{Year}                                  &       0.0357  &        0.006     &     6.231  &         0.000        &        0.024    &        0.047     \\\\\n",
       "\\textbf{Infant\\_deaths}                        &      -0.0521  &        0.006     &    -8.198  &         0.000        &       -0.065    &       -0.040     \\\\\n",
       "\\textbf{Under\\_five\\_deaths}                   &      -0.0510  &        0.004     &   -12.674  &         0.000        &       -0.059    &       -0.043     \\\\\n",
       "\\textbf{Adult\\_mortality}                      &      -0.0468  &        0.001     &   -75.767  &         0.000        &       -0.048    &       -0.046     \\\\\n",
       "\\textbf{Alcohol\\_consumption}                  &       0.0051  &        0.012     &     0.433  &         0.665        &       -0.018    &        0.028     \\\\\n",
       "\\textbf{Hepatitis\\_B}                          &      -0.0075  &        0.003     &    -2.912  &         0.004        &       -0.013    &       -0.002     \\\\\n",
       "\\textbf{Measles}                               &       0.0028  &        0.002     &     1.578  &         0.115        &       -0.001    &        0.006     \\\\\n",
       "\\textbf{BMI}                                   &      -0.1347  &        0.023     &    -5.946  &         0.000        &       -0.179    &       -0.090     \\\\\n",
       "\\textbf{Polio}                                 &       0.0040  &        0.006     &     0.672  &         0.501        &       -0.008    &        0.016     \\\\\n",
       "\\textbf{Diphtheria}                            &      -0.0041  &        0.006     &    -0.685  &         0.493        &       -0.016    &        0.008     \\\\\n",
       "\\textbf{Incidents\\_HIV}                        &       0.0854  &        0.018     &     4.807  &         0.000        &        0.051    &        0.120     \\\\\n",
       "\\textbf{GDP\\_per\\_capita}                      &    1.897e-05  &     2.39e-06     &     7.955  &         0.000        &     1.43e-05    &     2.37e-05     \\\\\n",
       "\\textbf{Population\\_mln}                       &      -0.0003  &        0.000     &    -1.348  &         0.178        &       -0.001    &        0.000     \\\\\n",
       "\\textbf{Thinness\\_ten\\_nineteen\\_years}        &      -0.0340  &        0.018     &    -1.878  &         0.061        &       -0.070    &        0.002     \\\\\n",
       "\\textbf{Thinness\\_five\\_nine\\_years}           &       0.0244  &        0.018     &     1.348  &         0.178        &       -0.011    &        0.060     \\\\\n",
       "\\textbf{Schooling}                             &       0.1059  &        0.018     &     5.724  &         0.000        &        0.070    &        0.142     \\\\\n",
       "\\textbf{Economy\\_status\\_Developed}            &       5.6121  &        3.828     &     1.466  &         0.143        &       -1.895    &       13.119     \\\\\n",
       "\\textbf{Economy\\_status\\_Developing}           &       3.1382  &        3.836     &     0.818  &         0.413        &       -4.385    &       10.662     \\\\\n",
       "\\textbf{region\\_Asia}                          &       0.3416  &        0.113     &     3.024  &         0.003        &        0.120    &        0.563     \\\\\n",
       "\\textbf{region\\_Central America and Caribbean} &       1.8946  &        0.121     &    15.687  &         0.000        &        1.658    &        2.131     \\\\\n",
       "\\textbf{region\\_European Union}                &      -0.7429  &        0.178     &    -4.185  &         0.000        &       -1.091    &       -0.395     \\\\\n",
       "\\textbf{region\\_Middle East}                   &       0.2110  &        0.139     &     1.521  &         0.128        &       -0.061    &        0.483     \\\\\n",
       "\\textbf{region\\_North America}                 &       0.6628  &        0.242     &     2.736  &         0.006        &        0.188    &        1.138     \\\\\n",
       "\\textbf{region\\_Oceania}                       &      -0.7781  &        0.147     &    -5.288  &         0.000        &       -1.067    &       -0.490     \\\\\n",
       "\\textbf{region\\_Rest of Europe}                &       0.1786  &        0.141     &     1.263  &         0.207        &       -0.099    &        0.456     \\\\\n",
       "\\textbf{region\\_South America}                 &       1.7041  &        0.137     &    12.405  &         0.000        &        1.435    &        1.974     \\\\\n",
       "\\textbf{alcohol\\_exp}                          &   -1.774e-08  &     1.53e-08     &    -1.158  &         0.247        &    -4.78e-08    &     1.23e-08     \\\\\n",
       "\\bottomrule\n",
       "\\end{tabular}\n",
       "\\begin{tabular}{lclc}\n",
       "\\textbf{Omnibus:}       &  8.686 & \\textbf{  Durbin-Watson:     } &    1.970  \\\\\n",
       "\\textbf{Prob(Omnibus):} &  0.013 & \\textbf{  Jarque-Bera (JB):  } &   10.018  \\\\\n",
       "\\textbf{Skew:}          &  0.077 & \\textbf{  Prob(JB):          } &  0.00668  \\\\\n",
       "\\textbf{Kurtosis:}      &  3.285 & \\textbf{  Cond. No.          } & 2.76e+15  \\\\\n",
       "\\bottomrule\n",
       "\\end{tabular}\n",
       "%\\caption{OLS Regression Results}\n",
       "\\end{center}\n",
       "\n",
       "Notes: \\newline\n",
       " [1] Standard Errors assume that the covariance matrix of the errors is correctly specified. \\newline\n",
       " [2] The smallest eigenvalue is 8.57e-16. This might indicate that there are \\newline\n",
       " strong multicollinearity problems or that the design matrix is singular."
      ],
      "text/plain": [
       "<class 'statsmodels.iolib.summary.Summary'>\n",
       "\"\"\"\n",
       "                            OLS Regression Results                            \n",
       "==============================================================================\n",
       "Dep. Variable:        Life_expectancy   R-squared:                       0.984\n",
       "Model:                            OLS   Adj. R-squared:                  0.984\n",
       "Method:                 Least Squares   F-statistic:                     5365.\n",
       "Date:                Tue, 28 May 2024   Prob (F-statistic):               0.00\n",
       "Time:                        09:46:29   Log-Likelihood:                -3650.9\n",
       "No. Observations:                2291   AIC:                             7356.\n",
       "Df Residuals:                    2264   BIC:                             7511.\n",
       "Df Model:                          26                                         \n",
       "Covariance Type:            nonrobust                                         \n",
       "========================================================================================================\n",
       "                                           coef    std err          t      P>|t|      [0.025      0.975]\n",
       "--------------------------------------------------------------------------------------------------------\n",
       "const                                    8.7503      7.663      1.142      0.254      -6.277      23.777\n",
       "Year                                     0.0357      0.006      6.231      0.000       0.024       0.047\n",
       "Infant_deaths                           -0.0521      0.006     -8.198      0.000      -0.065      -0.040\n",
       "Under_five_deaths                       -0.0510      0.004    -12.674      0.000      -0.059      -0.043\n",
       "Adult_mortality                         -0.0468      0.001    -75.767      0.000      -0.048      -0.046\n",
       "Alcohol_consumption                      0.0051      0.012      0.433      0.665      -0.018       0.028\n",
       "Hepatitis_B                             -0.0075      0.003     -2.912      0.004      -0.013      -0.002\n",
       "Measles                                  0.0028      0.002      1.578      0.115      -0.001       0.006\n",
       "BMI                                     -0.1347      0.023     -5.946      0.000      -0.179      -0.090\n",
       "Polio                                    0.0040      0.006      0.672      0.501      -0.008       0.016\n",
       "Diphtheria                              -0.0041      0.006     -0.685      0.493      -0.016       0.008\n",
       "Incidents_HIV                            0.0854      0.018      4.807      0.000       0.051       0.120\n",
       "GDP_per_capita                        1.897e-05   2.39e-06      7.955      0.000    1.43e-05    2.37e-05\n",
       "Population_mln                          -0.0003      0.000     -1.348      0.178      -0.001       0.000\n",
       "Thinness_ten_nineteen_years             -0.0340      0.018     -1.878      0.061      -0.070       0.002\n",
       "Thinness_five_nine_years                 0.0244      0.018      1.348      0.178      -0.011       0.060\n",
       "Schooling                                0.1059      0.018      5.724      0.000       0.070       0.142\n",
       "Economy_status_Developed                 5.6121      3.828      1.466      0.143      -1.895      13.119\n",
       "Economy_status_Developing                3.1382      3.836      0.818      0.413      -4.385      10.662\n",
       "region_Asia                              0.3416      0.113      3.024      0.003       0.120       0.563\n",
       "region_Central America and Caribbean     1.8946      0.121     15.687      0.000       1.658       2.131\n",
       "region_European Union                   -0.7429      0.178     -4.185      0.000      -1.091      -0.395\n",
       "region_Middle East                       0.2110      0.139      1.521      0.128      -0.061       0.483\n",
       "region_North America                     0.6628      0.242      2.736      0.006       0.188       1.138\n",
       "region_Oceania                          -0.7781      0.147     -5.288      0.000      -1.067      -0.490\n",
       "region_Rest of Europe                    0.1786      0.141      1.263      0.207      -0.099       0.456\n",
       "region_South America                     1.7041      0.137     12.405      0.000       1.435       1.974\n",
       "alcohol_exp                          -1.774e-08   1.53e-08     -1.158      0.247   -4.78e-08    1.23e-08\n",
       "==============================================================================\n",
       "Omnibus:                        8.686   Durbin-Watson:                   1.970\n",
       "Prob(Omnibus):                  0.013   Jarque-Bera (JB):               10.018\n",
       "Skew:                           0.077   Prob(JB):                      0.00668\n",
       "Kurtosis:                       3.285   Cond. No.                     2.76e+15\n",
       "==============================================================================\n",
       "\n",
       "Notes:\n",
       "[1] Standard Errors assume that the covariance matrix of the errors is correctly specified.\n",
       "[2] The smallest eigenvalue is 8.57e-16. This might indicate that there are\n",
       "strong multicollinearity problems or that the design matrix is singular.\n",
       "\"\"\""
      ]
     },
     "execution_count": 31,
     "metadata": {},
     "output_type": "execute_result"
    }
   ],
   "source": [
    "results = lin_reg.fit()\n",
    "results.summary()"
   ]
  },
  {
   "cell_type": "code",
   "execution_count": 32,
   "id": "afd4b63c",
   "metadata": {},
   "outputs": [
    {
     "name": "stdout",
     "output_type": "stream",
     "text": [
      "0.9490168522001526\n"
     ]
    }
   ],
   "source": [
    "y_pred = results.predict(X_train_fe[feature_cols])\n",
    "rmse = statsmodels.tools.eval_measures.meanabs(y_train, y_pred)\n",
    "print(rmse)"
   ]
  },
  {
   "cell_type": "code",
   "execution_count": 33,
   "id": "c9ddd3c0",
   "metadata": {},
   "outputs": [
    {
     "name": "stdout",
     "output_type": "stream",
     "text": [
      "0.9409325826359322\n"
     ]
    }
   ],
   "source": [
    "X_test_fe = feature_engineering(X_test)\n",
    "X_test_fe = X_test_fe[feature_cols]\n",
    "y_test_pred = results.predict(X_test_fe)\n",
    "rmse = statsmodels.tools.eval_measures.meanabs(y_test, y_test_pred)\n",
    "print(rmse)"
   ]
  }
 ],
 "metadata": {
  "kernelspec": {
   "display_name": "Python 3 (ipykernel)",
   "language": "python",
   "name": "python3"
  },
  "language_info": {
   "codemirror_mode": {
    "name": "ipython",
    "version": 3
   },
   "file_extension": ".py",
   "mimetype": "text/x-python",
   "name": "python",
   "nbconvert_exporter": "python",
   "pygments_lexer": "ipython3",
   "version": "3.11.7"
  }
 },
 "nbformat": 4,
 "nbformat_minor": 5
}
